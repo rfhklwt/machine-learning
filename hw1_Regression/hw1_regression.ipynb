{
  "nbformat": 4,
  "nbformat_minor": 0,
  "metadata": {
    "colab": {
      "name": "hw1_regression.ipynb",
      "provenance": [],
      "collapsed_sections": [],
      "toc_visible": true
    },
    "kernelspec": {
      "display_name": "Python 3",
      "language": "python",
      "name": "python3"
    },
    "language_info": {
      "codemirror_mode": {
        "name": "ipython",
        "version": 3
      },
      "file_extension": ".py",
      "mimetype": "text/x-python",
      "name": "python",
      "nbconvert_exporter": "python",
      "pygments_lexer": "ipython3",
      "version": "3.7.6"
    }
  },
  "cells": [
    {
      "cell_type": "markdown",
      "metadata": {
        "colab_type": "text",
        "id": "p9FfatPz6MU3"
      },
      "source": [
        "# **Homework 1: Linear Regression**"
      ]
    },
    {
      "cell_type": "markdown",
      "metadata": {
        "colab_type": "text",
        "id": "fsoaNwrZA0ui"
      },
      "source": [
        "本次目標：由前 9 個小時的 18 個 features (包含 PM2.5)預測的 10 個小時的 PM2.5。<!-- 可以參考 <link> 獲知更細項的作業說明。-->\n",
        "\n",
        "<!-- 首先，從 https://drive.google.com/open?id=1El0zvTkrSuqCTDcMpijXpADvJzZC2Jpa 將整個資料夾下載下來，並將下載下來的資料夾放到自己的 Google Drive（注意：上傳到自己 Google Drive 的是資料夾 hw1-regression，而非壓縮檔） -->"
      ]
    },
    {
      "cell_type": "markdown",
      "metadata": {
        "colab_type": "text",
        "id": "U7RiAkkjCc6l"
      },
      "source": [
        "# **Load 'train.csv'**\n",
        "train.csv 的資料為 12 個月中，每個月取 20 天，每天 24 小時的資料(每小時資料有 18 個 features)。"
      ]
    },
    {
      "cell_type": "code",
      "metadata": {
        "colab_type": "code",
        "id": "1AfNX-hB3kN8",
        "colab": {
          "base_uri": "https://localhost:8080/",
          "height": 145
        },
        "outputId": "ff622ce0-0691-4e6b-a5a0-be8f1ab4d968"
      },
      "source": [
        "import sys\n",
        "import os\n",
        "import pandas as pd\n",
        "import numpy as np\n",
        "from google.colab import drive \n",
        "#!gdown --id '1wNKAxQ29G15kgpBy_asjTcZRRgmsCZRm' --output data.zip\n",
        "#!unzip data.zip\n",
        "drive.mount('/content/gdrive')\n",
        "path = \"/content/gdrive/My Drive/hw1-regression\"\n",
        "os.chdir(path)\n",
        "os.listdir(path)\n",
        "\n",
        "#data = pd.read_csv('./hw1_Regression/DataSet/train.csv', encoding = 'big5')"
      ],
      "execution_count": 7,
      "outputs": [
        {
          "output_type": "stream",
          "text": [
            "Go to this URL in a browser: https://accounts.google.com/o/oauth2/auth?client_id=947318989803-6bn6qk8qdgf4n4g3pfee6491hc0brc4i.apps.googleusercontent.com&redirect_uri=urn%3aietf%3awg%3aoauth%3a2.0%3aoob&response_type=code&scope=email%20https%3a%2f%2fwww.googleapis.com%2fauth%2fdocs.test%20https%3a%2f%2fwww.googleapis.com%2fauth%2fdrive%20https%3a%2f%2fwww.googleapis.com%2fauth%2fdrive.photos.readonly%20https%3a%2f%2fwww.googleapis.com%2fauth%2fpeopleapi.readonly\n",
            "\n",
            "Enter your authorization code:\n",
            "··········\n",
            "Mounted at /content/gdrive\n"
          ],
          "name": "stdout"
        },
        {
          "output_type": "execute_result",
          "data": {
            "text/plain": [
              "['train.csv', 'test.csv', 'hw1_regression.ipynb']"
            ]
          },
          "metadata": {
            "tags": []
          },
          "execution_count": 7
        }
      ]
    },
    {
      "cell_type": "code",
      "metadata": {
        "id": "AGNoFU68YOMr",
        "colab_type": "code",
        "colab": {}
      },
      "source": [
        "# 读入train.csv，繁体字以big5编码\n",
        "data = pd.read_csv('train.csv', header = None, encoding = 'big5')"
      ],
      "execution_count": 8,
      "outputs": []
    },
    {
      "cell_type": "markdown",
      "metadata": {
        "colab_type": "text",
        "id": "gqUdj00pDTpo"
      },
      "source": [
        "# **Preprocessing** \n",
        "取需要的數值部分，將 'RAINFALL' 欄位全部補 0。\n",
        "另外，如果要在 colab 重覆這段程式碼的執行，請從頭開始執行(把上面的都重新跑一次)，以避免跑出不是自己要的結果（若自己寫程式不會遇到，但 colab 重複跑這段會一直往下取資料。意即第一次取原本資料的第三欄之後的資料，第二次取第一次取的資料掉三欄之後的資料，...）。"
      ]
    },
    {
      "cell_type": "code",
      "metadata": {
        "colab_type": "code",
        "id": "AIGP7XUYD_Yb",
        "colab": {}
      },
      "source": [
        "data = data.iloc[:, 3:]\n",
        "data[data == 'NR'] = 0\n",
        "raw_data = data.to_numpy()"
      ],
      "execution_count": 9,
      "outputs": []
    },
    {
      "cell_type": "markdown",
      "metadata": {
        "colab_type": "text",
        "id": "V7PCrVwX6jBF"
      },
      "source": [
        "# **Extract Features (1)**\n",
        "![圖片說明](https://drive.google.com/uc?id=1LyaqD4ojX07oe5oDzPO99l9ts5NRyArH)\n",
        "![圖片說明](https://drive.google.com/uc?id=1ZroBarcnlsr85gibeqEF-MtY13xJTG47)\n",
        "\n",
        "將原始 4320 * 18 的資料依照每個月分重組成 12 個 18 (features) * 480 (hours) 的資料。 "
      ]
    },
    {
      "cell_type": "code",
      "metadata": {
        "colab_type": "code",
        "id": "HBnrGYXu9dZQ",
        "colab": {}
      },
      "source": [
        "month_data = {}\n",
        "for month in range(12):\n",
        "    sample = np.empty([18, 480])\n",
        "    for day in range(20):\n",
        "        sample[:, day * 24 : (day + 1) * 24] = raw_data[18 * (20 * month + day) : 18 * (20 * month + day + 1), :]\n",
        "    month_data[month] = sample"
      ],
      "execution_count": 10,
      "outputs": []
    },
    {
      "cell_type": "markdown",
      "metadata": {
        "colab_type": "text",
        "id": "WhVmtFEQ9D6t"
      },
      "source": [
        "# **Extract Features (2)**\n",
        "![alt text](https://drive.google.com/uc?id=1wKoPuaRHoX682LMiBgIoOP4PDyNKsJLK)\n",
        "![alt text](https://drive.google.com/uc?id=1FRWWiXQ-Qh0i9tyx0LiugHYF_xDdkhLN)\n",
        "\n",
        "每個月會有 480hrs，每 9 小時形成一個 data，每個月會有 471 個 data，故總資料數為 471 * 12 筆，而每筆 data 有 9 * 18 的 features (一小時 18 個 features * 9 小時)。\n",
        "\n",
        "對應的 target 則有 471 * 12 個(第 10 個小時的 PM2.5)"
      ]
    },
    {
      "cell_type": "code",
      "metadata": {
        "colab_type": "code",
        "id": "dcOrC4Fi-n3i",
        "colab": {
          "base_uri": "https://localhost:8080/",
          "height": 269
        },
        "outputId": "4830dc76-ba45-494e-8675-db8c6a133374"
      },
      "source": [
        "x = np.empty([12 * 471, 18 * 9], dtype = float)\n",
        "y = np.empty([12 * 471, 1], dtype = float)\n",
        "for month in range(12):\n",
        "    for day in range(20):\n",
        "        for hour in range(24):\n",
        "            # 最后一天的最后9个小时不能算进去，不然会越界\n",
        "            if day == 19 and hour > 14:\n",
        "                continue\n",
        "            x[month * 471 + day * 24 + hour, :] = month_data[month][:,day * 24 + hour : day * 24 + hour + 9].reshape(1, -1) #vector dim:18*9 (9 9 9 9 9 9 9 9 9 9 9 9 9 9 9 9 9 9)\n",
        "            y[month * 471 + day * 24 + hour, 0] = month_data[month][9, day * 24 + hour + 9] #value\n",
        "print(x)\n",
        "print(y)"
      ],
      "execution_count": 11,
      "outputs": [
        {
          "output_type": "stream",
          "text": [
            "[[0.  1.  2.  ... 2.5 2.  0.6]\n",
            " [1.  2.  3.  ... 2.  0.6 0.8]\n",
            " [2.  3.  4.  ... 0.6 0.8 1.6]\n",
            " ...\n",
            " [0.8 1.8 2.6 ... 1.5 1.  1.7]\n",
            " [1.8 2.6 1.4 ... 1.  1.7 1.5]\n",
            " [2.6 1.4 1.7 ... 1.7 1.5 2. ]]\n",
            "[[38.]\n",
            " [56.]\n",
            " [64.]\n",
            " ...\n",
            " [50.]\n",
            " [32.]\n",
            " [22.]]\n"
          ],
          "name": "stdout"
        }
      ]
    },
    {
      "cell_type": "markdown",
      "metadata": {
        "colab_type": "text",
        "id": "1wOii0TX8IwE"
      },
      "source": [
        "# **Normalize (1)**\n",
        "$x = \\frac{x - \\mu}{\\sigma}$, 其中，$\\mu$是样本的均值，$\\sigma$是样本的标准差。\n",
        "\n",
        "通过标准化，可以：\n",
        "\n",
        "- 将有量纲的表达式，经过变换，化为无量纲的表达式，成为标量\n",
        "- 使得数据更加符合独立同分布条件"
      ]
    },
    {
      "cell_type": "code",
      "metadata": {
        "colab_type": "code",
        "id": "ceMqFoNI8ftQ",
        "colab": {
          "base_uri": "https://localhost:8080/",
          "height": 251
        },
        "outputId": "08cd8807-02f0-4000-b3e7-29011331f835"
      },
      "source": [
        "mean_x = np.mean(x, axis = 0) #18 * 9 \n",
        "std_x = np.std(x, axis = 0) #18 * 9 \n",
        "for i in range(len(x)): #12 * 471\n",
        "    for j in range(len(x[0])): #18 * 9 \n",
        "        if std_x[j] != 0:\n",
        "            x[i][j] = (x[i][j] - mean_x[j]) / std_x[j]\n",
        "x"
      ],
      "execution_count": 12,
      "outputs": [
        {
          "output_type": "execute_result",
          "data": {
            "text/plain": [
              "array([[-1.32940065, -0.57052916,  0.18849156, ...,  0.18190364,\n",
              "        -0.28611588, -1.59862324],\n",
              "       [-0.57043373,  0.18838607,  0.9474531 , ..., -0.28631722,\n",
              "        -1.59712273, -1.41122474],\n",
              "       [ 0.18853318,  0.9473013 ,  1.70641464, ..., -1.59733562,\n",
              "        -1.40983604, -0.66163075],\n",
              "       ...,\n",
              "       [-0.72222712,  0.03660302,  0.64386849, ..., -0.75453808,\n",
              "        -1.22254934, -0.5679315 ],\n",
              "       [ 0.0367398 ,  0.64373521, -0.26688536, ..., -1.22275893,\n",
              "        -0.56704592, -0.75533   ],\n",
              "       [ 0.64391333, -0.26696307, -0.0391969 , ..., -0.56724973,\n",
              "        -0.75433261, -0.28683376]])"
            ]
          },
          "metadata": {
            "tags": []
          },
          "execution_count": 12
        }
      ]
    },
    {
      "cell_type": "markdown",
      "metadata": {
        "id": "DkB61CTxRIs3",
        "colab_type": "text"
      },
      "source": [
        "## Shuffling Data"
      ]
    },
    {
      "cell_type": "code",
      "metadata": {
        "id": "Lya7aCeRRIs4",
        "colab_type": "code",
        "colab": {
          "base_uri": "https://localhost:8080/",
          "height": 53
        },
        "outputId": "59dd537c-f1f8-424c-d412-29167d7e9745"
      },
      "source": [
        "per = np.random.permutation(x.shape[0])  #打乱后的行号\n",
        "x = x[per, :]\n",
        "y = y[per]\n",
        "print(x.shape)\n",
        "print(y.shape)"
      ],
      "execution_count": 13,
      "outputs": [
        {
          "output_type": "stream",
          "text": [
            "(5652, 162)\n",
            "(5652, 1)\n"
          ],
          "name": "stdout"
        }
      ]
    },
    {
      "cell_type": "markdown",
      "metadata": {
        "colab_type": "text",
        "id": "NzvXP5Jya64j"
      },
      "source": [
        "#**Split Training Data Into \"train_set\" and \"validation_set\"**\n",
        "這部分是針對作業中 report 的第二題、第三題做的簡單示範，以生成比較中用來訓練的 train_set 和不會被放入訓練、只是用來驗證的 validation_set。"
      ]
    },
    {
      "cell_type": "code",
      "metadata": {
        "colab_type": "code",
        "id": "feF4XXOQb5SC",
        "colab": {},
        "outputId": "03cd6c38-e042-4624-9bd8-ed4bb2005ac5"
      },
      "source": [
        "import math\n",
        "x_train_set = x[: math.floor(len(x) * 0.8), :]\n",
        "y_train_set = y[: math.floor(len(y) * 0.8), :]\n",
        "x_validation = x[math.floor(len(x) * 0.8): , :]\n",
        "y_validation = y[math.floor(len(y) * 0.8): , :]\n",
        "print(x_train_set)\n",
        "print(y_train_set)\n",
        "print(x_validation)\n",
        "print(y_validation)\n",
        "print(len(x_train_set))\n",
        "print(len(y_train_set))\n",
        "print(len(x_validation))\n",
        "print(len(y_validation))"
      ],
      "execution_count": null,
      "outputs": [
        {
          "output_type": "stream",
          "text": [
            "[[ 0.23285597  0.23170375  0.23055081 ... -0.29578943 -0.29644471\n",
            "   0.07797893]\n",
            " [-0.7218096  -0.72262212 -0.72331287 ... -1.13923451 -1.13963133\n",
            "   0.45299439]\n",
            " [ 0.55107783  0.54981237  0.54850537 ...  1.01623625  1.20255373\n",
            "   1.95305622]\n",
            " ...\n",
            " [-0.88092053 -0.88167643 -0.88229015 ...  0.07907505 -0.10906991\n",
            "  -0.67205199]\n",
            " [-0.7218096  -0.72262212 -0.72331287 ... -0.76437003  0.0783049\n",
            "   0.64050212]\n",
            " [-1.04003146 -0.72262212 -0.56433559 ... -0.67065391 -0.85856912\n",
            "  -0.95331358]]\n",
            "[[13.]\n",
            " [ 4.]\n",
            " [13.]\n",
            " ...\n",
            " [ 7.]\n",
            " [15.]\n",
            " [53.]]\n",
            "[[-0.40358774 -0.56356781 -0.56433559 ... -1.23295063 -0.48381951\n",
            "  -1.23457517]\n",
            " [-1.35825331 -1.51789368 -1.83615384 ...  1.48481684  0.54674191\n",
            "   0.73425598]\n",
            " [-0.56269867 -0.56356781 -0.40535831 ...  0.36022341 -0.67119432\n",
            "  -0.76580585]\n",
            " ...\n",
            " [-0.7218096  -0.72262212 -0.72331287 ... -0.85808615 -1.23331873\n",
            "  -1.23457517]\n",
            " [-2.09016358 -2.05867833 -2.01102885 ... -0.29578943 -0.48381951\n",
            "  -0.76580585]\n",
            " [-0.88092053 -1.04073074 -1.04126744 ... -0.29578943 -0.39013211\n",
            "  -0.39079039]]\n",
            "[[ 6.]\n",
            " [52.]\n",
            " [19.]\n",
            " ...\n",
            " [14.]\n",
            " [ 9.]\n",
            " [12.]]\n",
            "4521\n",
            "4521\n",
            "1131\n",
            "1131\n"
          ],
          "name": "stdout"
        }
      ]
    },
    {
      "cell_type": "markdown",
      "metadata": {
        "colab_type": "text",
        "id": "Q-qAu0KR_ZRR"
      },
      "source": [
        "# **Training**\n",
        "![alt text](https://drive.google.com/uc?id=1xIXvqZ4EGgmxrp7c9r0LOVbcvd4d9H4N)\n",
        "![alt text](https://drive.google.com/uc?id=1S42g06ON5oJlV2f9RukxawjbE4NpsaB6)\n",
        "![alt text](https://drive.google.com/uc?id=1BbXu-oPB9EZBHDQ12YCkYqtyAIil3bGj)\n",
        "\n",
        "(和上圖不同處: 下面的 code 採用 Root Mean Square Error)\n",
        "\n",
        "因為常數項的存在，所以 dimension (dim) 需要多加一欄；eps 項是避免 adagrad 的分母為 0 而加的極小數值。\n",
        "\n",
        "每一個 dimension (dim) 會對應到各自的 gradient, weight (w)，透過一次次的 iteration (iter_time) 學習。"
      ]
    },
    {
      "cell_type": "code",
      "metadata": {
        "colab_type": "code",
        "id": "cCzDfxBFBFqp",
        "colab": {
          "base_uri": "https://localhost:8080/",
          "height": 53
        },
        "outputId": "17fe7d2d-f212-4887-bc1e-fb98dc9a959d"
      },
      "source": [
        "dim = 18 * 9 + 1\n",
        "w = np.zeros([dim, 1])\n",
        "x = np.concatenate((np.ones([12 * 471, 1]), x), axis = 1).astype(float)\n",
        "learning_rate = 2\n",
        "iter_time = 10000\n",
        "adagrad = np.zeros([dim, 1])\n",
        "eps = 0.0000000001\n",
        "for t in range(iter_time):\n",
        "    loss = np.sqrt(np.sum(np.power(np.dot(x, w) - y, 2))/471/12)#rmse\n",
        "    if(t%5000==0):\n",
        "        print(str(t) + \":\" + str(loss))\n",
        "    gradient = 2 * np.dot(x.transpose(), np.dot(x, w) - y) #dim*1\n",
        "    adagrad += gradient ** 2\n",
        "    w = w - learning_rate * gradient / np.sqrt(adagrad + eps)\n",
        "np.save('weight.npy', w)\n"
      ],
      "execution_count": 14,
      "outputs": [
        {
          "output_type": "stream",
          "text": [
            "0:50.16931699765628\n",
            "5000:9.717033978795834\n"
          ],
          "name": "stdout"
        }
      ]
    },
    {
      "cell_type": "markdown",
      "metadata": {
        "colab_type": "text",
        "id": "ZqNdWKsYBK28"
      },
      "source": [
        "# **Testing**\n",
        "![alt text](https://drive.google.com/uc?id=1165ETzZyE6HStqKvgR0gKrJwgFLK6-CW)\n",
        "\n",
        "載入 test data，並且以相似於訓練資料預先處理和特徵萃取的方式處理，使 test data 形成 240 個維度為 18 * 9 + 1 的資料。"
      ]
    },
    {
      "cell_type": "code",
      "metadata": {
        "colab_type": "code",
        "id": "AALygqJFCWOA",
        "colab": {
          "base_uri": "https://localhost:8080/",
          "height": 469
        },
        "outputId": "f3de219f-5d4a-4d4a-c48d-4caab8141f3a"
      },
      "source": [
        "testdata = pd.read_csv('test.csv', header = None, encoding = 'big5')\n",
        "#testdata = pd.read_csv('./hw1_Regression/DataSet/test.csv', header = None, encoding = 'big5')\n",
        "test_data = testdata.iloc[:, 2:]\n",
        "test_data[test_data == 'NR'] = 0\n",
        "test_data = test_data.to_numpy()\n",
        "test_x = np.empty([240, 18*9], dtype = float)\n",
        "for i in range(240):\n",
        "    test_x[i, :] = test_data[18 * i: 18* (i + 1), :].reshape(1, -1)\n",
        "for i in range(len(test_x)):\n",
        "    for j in range(len(test_x[0])):\n",
        "        if std_x[j] != 0:\n",
        "            test_x[i][j] = (test_x[i][j] - mean_x[j]) / std_x[j]\n",
        "test_x = np.concatenate((np.ones([240, 1]), test_x), axis = 1).astype(float)\n",
        "test_x"
      ],
      "execution_count": 16,
      "outputs": [
        {
          "output_type": "stream",
          "text": [
            "/usr/local/lib/python3.6/dist-packages/ipykernel_launcher.py:4: SettingWithCopyWarning: \n",
            "A value is trying to be set on a copy of a slice from a DataFrame.\n",
            "Try using .loc[row_indexer,col_indexer] = value instead\n",
            "\n",
            "See the caveats in the documentation: https://pandas.pydata.org/pandas-docs/stable/user_guide/indexing.html#returning-a-view-versus-a-copy\n",
            "  after removing the cwd from sys.path.\n",
            "/usr/local/lib/python3.6/dist-packages/pandas/core/frame.py:2986: SettingWithCopyWarning: \n",
            "A value is trying to be set on a copy of a slice from a DataFrame\n",
            "\n",
            "See the caveats in the documentation: https://pandas.pydata.org/pandas-docs/stable/user_guide/indexing.html#returning-a-view-versus-a-copy\n",
            "  self._where(-key, value, inplace=True)\n"
          ],
          "name": "stderr"
        },
        {
          "output_type": "execute_result",
          "data": {
            "text/plain": [
              "array([[ 1.        , 14.6089046 , 14.60777537, ..., -1.22275893,\n",
              "        -1.59712273, -0.47423225],\n",
              "       [ 1.        ,  9.29613618,  8.53645356, ..., -0.37996139,\n",
              "        -0.66068927, -1.03642775],\n",
              "       [ 1.        , 22.95754068, 22.19692764, ..., -1.87826813,\n",
              "        -1.59712273, -1.13012699],\n",
              "       ...,\n",
              "       [ 1.        , 17.64477226, 18.4023515 , ..., -0.28631722,\n",
              "        -0.75433261,  0.65015873],\n",
              "       [ 1.        ,  7.01923543,  7.01862311, ..., -1.59733562,\n",
              "        -1.69076608, -1.69232249],\n",
              "       [ 1.        ,  9.29613618,  9.29536879, ...,  2.42936375,\n",
              "         2.71047121,  1.21235422]])"
            ]
          },
          "metadata": {
            "tags": []
          },
          "execution_count": 16
        }
      ]
    },
    {
      "cell_type": "markdown",
      "metadata": {
        "colab_type": "text",
        "id": "dJQks9JEHR6W"
      },
      "source": [
        "# **Prediction**\n",
        "說明圖同上\n",
        "\n",
        "![alt text](https://drive.google.com/uc?id=1165ETzZyE6HStqKvgR0gKrJwgFLK6-CW)\n",
        "\n",
        "有了 weight 和測試資料即可預測 target。"
      ]
    },
    {
      "cell_type": "code",
      "metadata": {
        "colab_type": "code",
        "id": "jNyB229jHsEQ",
        "colab": {
          "base_uri": "https://localhost:8080/",
          "height": 1000
        },
        "outputId": "de654cc3-7965-4330-b5bc-2cf47d899e4f"
      },
      "source": [
        "w = np.load('weight.npy')\n",
        "ans_y = np.dot(test_x, w)\n",
        "ans_y"
      ],
      "execution_count": 17,
      "outputs": [
        {
          "output_type": "execute_result",
          "data": {
            "text/plain": [
              "array([[ 1.90652227e+02],\n",
              "       [ 2.87394680e+02],\n",
              "       [ 1.85205319e+02],\n",
              "       [ 2.30983702e+02],\n",
              "       [ 3.51515616e+02],\n",
              "       [ 1.94720955e+02],\n",
              "       [ 4.86918396e+02],\n",
              "       [-2.12761747e+02],\n",
              "       [ 5.73770823e+02],\n",
              "       [ 8.73354971e+02],\n",
              "       [ 5.92924980e+01],\n",
              "       [ 5.31796694e+02],\n",
              "       [ 1.46980909e+03],\n",
              "       [-4.16286618e-01],\n",
              "       [-2.78194386e+02],\n",
              "       [ 3.50798543e+02],\n",
              "       [ 8.10293740e+02],\n",
              "       [ 1.13347664e+03],\n",
              "       [ 8.05113828e+02],\n",
              "       [ 3.84875935e+02],\n",
              "       [ 4.34125624e+02],\n",
              "       [-5.97547348e+02],\n",
              "       [ 6.72128823e+02],\n",
              "       [ 7.21351426e+02],\n",
              "       [ 1.63616109e+02],\n",
              "       [ 8.37382728e+01],\n",
              "       [ 1.13822594e+02],\n",
              "       [-3.04459109e+01],\n",
              "       [ 6.95234483e+02],\n",
              "       [ 1.99073282e+03],\n",
              "       [ 6.45961184e+02],\n",
              "       [ 4.47582812e+02],\n",
              "       [ 4.60346552e+02],\n",
              "       [ 2.32935057e+02],\n",
              "       [ 1.32336757e+03],\n",
              "       [ 1.27966182e+03],\n",
              "       [ 3.52427266e+02],\n",
              "       [ 1.93866255e+02],\n",
              "       [ 1.07679581e+03],\n",
              "       [ 1.69915393e+02],\n",
              "       [ 7.10157686e+02],\n",
              "       [-4.67630404e+02],\n",
              "       [ 1.28149837e+03],\n",
              "       [ 1.75176464e+02],\n",
              "       [-1.03369120e+03],\n",
              "       [ 1.40086297e+03],\n",
              "       [ 1.81245066e+02],\n",
              "       [ 4.14458892e+02],\n",
              "       [ 5.62561133e+02],\n",
              "       [ 4.30315965e+02],\n",
              "       [ 5.66106737e+02],\n",
              "       [ 6.59951999e+02],\n",
              "       [ 5.46352400e+02],\n",
              "       [ 5.74673442e+00],\n",
              "       [-1.91642035e+02],\n",
              "       [ 1.24215120e+03],\n",
              "       [ 6.30222930e+02],\n",
              "       [-1.42849633e+02],\n",
              "       [ 4.85934319e+02],\n",
              "       [ 4.53149050e+02],\n",
              "       [-9.85770612e+02],\n",
              "       [ 1.66930127e+03],\n",
              "       [-2.37050040e+02],\n",
              "       [ 1.11262101e+03],\n",
              "       [ 9.45889975e+02],\n",
              "       [-1.82540712e+02],\n",
              "       [ 3.41081769e+00],\n",
              "       [ 8.72307457e+02],\n",
              "       [ 1.98535365e+02],\n",
              "       [ 1.07555706e+03],\n",
              "       [ 5.72029436e+02],\n",
              "       [ 3.57551631e+02],\n",
              "       [ 8.11753991e+02],\n",
              "       [ 3.47206343e+02],\n",
              "       [ 7.41806903e+02],\n",
              "       [ 7.99570476e+01],\n",
              "       [ 1.31854413e+03],\n",
              "       [ 1.87261876e+02],\n",
              "       [ 8.85002192e+02],\n",
              "       [ 5.50177096e+02],\n",
              "       [-4.02507334e+02],\n",
              "       [-4.01172799e+02],\n",
              "       [ 1.43783271e+03],\n",
              "       [ 2.04323212e+03],\n",
              "       [ 2.55565773e+02],\n",
              "       [ 4.08628761e+02],\n",
              "       [ 3.12062053e+02],\n",
              "       [ 3.28372067e+02],\n",
              "       [ 7.51618567e+02],\n",
              "       [ 1.17431315e+03],\n",
              "       [ 4.45128411e+02],\n",
              "       [ 7.53301126e+02],\n",
              "       [ 5.03789332e+02],\n",
              "       [ 1.08049904e+03],\n",
              "       [ 5.65285174e+02],\n",
              "       [ 4.96168250e+02],\n",
              "       [-2.77426296e+02],\n",
              "       [ 4.81488268e+02],\n",
              "       [-1.66362711e+02],\n",
              "       [-2.40685850e+02],\n",
              "       [ 1.22524642e+02],\n",
              "       [ 1.79465804e+02],\n",
              "       [ 5.19505520e+02],\n",
              "       [-2.48112307e+02],\n",
              "       [ 1.82215679e+02],\n",
              "       [ 1.76770046e+03],\n",
              "       [ 1.03883048e+03],\n",
              "       [ 1.51712184e+02],\n",
              "       [ 4.37248842e+02],\n",
              "       [ 1.76744809e+03],\n",
              "       [ 9.38459149e+02],\n",
              "       [-3.19392408e+02],\n",
              "       [ 1.39055563e+03],\n",
              "       [ 9.49539636e+01],\n",
              "       [ 2.53017361e+02],\n",
              "       [ 3.22574149e+02],\n",
              "       [ 4.69678645e+02],\n",
              "       [ 2.91163511e+02],\n",
              "       [ 1.43635701e+03],\n",
              "       [ 1.65297221e+02],\n",
              "       [-8.94399812e+02],\n",
              "       [ 6.69232401e+02],\n",
              "       [ 9.52322663e+02],\n",
              "       [-6.36995885e+02],\n",
              "       [ 4.98864534e+02],\n",
              "       [ 9.14362260e+02],\n",
              "       [ 4.34798363e+02],\n",
              "       [ 8.30180054e+02],\n",
              "       [ 6.81468676e+01],\n",
              "       [ 2.02901081e+03],\n",
              "       [ 4.20459904e+01],\n",
              "       [ 1.63023191e+02],\n",
              "       [ 1.62951715e+03],\n",
              "       [ 4.13904046e+02],\n",
              "       [ 7.41250575e+02],\n",
              "       [-3.51269888e+02],\n",
              "       [ 4.56954821e+02],\n",
              "       [ 9.67236875e+02],\n",
              "       [ 1.36763608e+03],\n",
              "       [ 2.53043505e+02],\n",
              "       [ 1.24039905e+03],\n",
              "       [ 3.12219251e+02],\n",
              "       [ 1.14067642e+03],\n",
              "       [ 1.65015852e+03],\n",
              "       [ 5.72398242e+02],\n",
              "       [-1.75538320e+03],\n",
              "       [ 3.14313414e+02],\n",
              "       [ 1.15576465e+03],\n",
              "       [ 2.23320332e+03],\n",
              "       [ 1.93843111e+03],\n",
              "       [ 5.23245940e+02],\n",
              "       [ 2.23508422e+02],\n",
              "       [-4.05299052e+02],\n",
              "       [ 1.56213986e+02],\n",
              "       [ 1.41189749e+03],\n",
              "       [ 1.00793688e+03],\n",
              "       [ 1.18949602e+02],\n",
              "       [ 2.79895662e+02],\n",
              "       [-1.71596858e+02],\n",
              "       [ 3.67106416e+02],\n",
              "       [ 5.48022123e+02],\n",
              "       [ 1.92797644e+02],\n",
              "       [ 2.10182198e+03],\n",
              "       [ 3.63320046e+02],\n",
              "       [ 2.96395579e+02],\n",
              "       [ 1.39924477e+03],\n",
              "       [ 7.59948339e+01],\n",
              "       [ 4.80007277e+02],\n",
              "       [ 1.22749986e+03],\n",
              "       [ 1.32534470e+03],\n",
              "       [ 3.76048035e+02],\n",
              "       [ 9.45631232e+02],\n",
              "       [ 8.48897256e+02],\n",
              "       [ 1.27615923e+03],\n",
              "       [ 1.24307784e+03],\n",
              "       [ 1.19276095e+03],\n",
              "       [ 1.33854729e+03],\n",
              "       [ 7.40109485e+02],\n",
              "       [ 6.53756173e+02],\n",
              "       [ 1.13557201e+03],\n",
              "       [ 6.15145821e+02],\n",
              "       [ 8.63748487e+01],\n",
              "       [ 6.57042850e+01],\n",
              "       [ 6.30916940e+02],\n",
              "       [ 1.76001498e+02],\n",
              "       [ 1.11304853e+03],\n",
              "       [-1.32047782e+01],\n",
              "       [ 5.79665670e+02],\n",
              "       [-1.11112850e+03],\n",
              "       [ 1.68318401e+03],\n",
              "       [ 8.43500433e+02],\n",
              "       [ 1.06221620e+03],\n",
              "       [ 1.79917865e+03],\n",
              "       [ 5.10392775e+02],\n",
              "       [ 4.03576034e+01],\n",
              "       [ 1.63613534e+03],\n",
              "       [ 3.96798499e+02],\n",
              "       [ 1.21394473e+03],\n",
              "       [ 7.65554673e+02],\n",
              "       [-1.88466680e+02],\n",
              "       [ 5.80958416e+02],\n",
              "       [ 5.45793748e+02],\n",
              "       [ 6.75451011e+02],\n",
              "       [ 1.00084728e+03],\n",
              "       [ 1.08565231e+02],\n",
              "       [ 5.09215514e+02],\n",
              "       [ 1.59896080e+02],\n",
              "       [ 3.47423625e+02],\n",
              "       [ 1.16442272e+03],\n",
              "       [ 2.27994376e+02],\n",
              "       [-2.51085179e+02],\n",
              "       [ 1.53413218e+03],\n",
              "       [ 5.88756280e+02],\n",
              "       [ 5.72558687e+02],\n",
              "       [ 6.55792921e+02],\n",
              "       [-4.15475574e+02],\n",
              "       [ 9.01284405e+02],\n",
              "       [ 2.97194371e+02],\n",
              "       [ 3.90827044e+02],\n",
              "       [ 9.07020150e+02],\n",
              "       [ 4.65989119e+02],\n",
              "       [ 9.23324414e+02],\n",
              "       [ 2.65857277e+02],\n",
              "       [ 3.03446747e+02],\n",
              "       [-2.41977809e+02],\n",
              "       [-3.38007988e+02],\n",
              "       [ 4.72892365e+02],\n",
              "       [-8.27743029e+02],\n",
              "       [ 2.96201495e+02],\n",
              "       [-4.09510459e+02],\n",
              "       [ 5.70250510e+02],\n",
              "       [ 1.35259304e+03],\n",
              "       [ 8.45092507e+02],\n",
              "       [ 1.08631713e+03],\n",
              "       [ 8.95017333e+02],\n",
              "       [ 2.91913486e+03],\n",
              "       [ 1.56809846e+03],\n",
              "       [ 1.31031212e+03],\n",
              "       [ 8.89478470e+01],\n",
              "       [ 3.34339061e+02]])"
            ]
          },
          "metadata": {
            "tags": []
          },
          "execution_count": 17
        }
      ]
    },
    {
      "cell_type": "markdown",
      "metadata": {
        "colab_type": "text",
        "id": "HKMKW7RzHwuO"
      },
      "source": [
        "# **Save Prediction to CSV File**\n"
      ]
    },
    {
      "cell_type": "code",
      "metadata": {
        "colab_type": "code",
        "id": "Dwfpqqy0H8en",
        "colab": {
          "base_uri": "https://localhost:8080/",
          "height": 1000
        },
        "outputId": "4fb2099b-adcb-430a-f084-41f9025320df"
      },
      "source": [
        "import csv\n",
        "with open('submit.csv', mode='w', newline='') as submit_file:\n",
        "    csv_writer = csv.writer(submit_file)\n",
        "    header = ['id', 'value']\n",
        "    print(header)\n",
        "    csv_writer.writerow(header)\n",
        "    for i in range(240):\n",
        "        row = ['id_' + str(i), ans_y[i][0]]\n",
        "        csv_writer.writerow(row)\n",
        "        print(row)"
      ],
      "execution_count": 18,
      "outputs": [
        {
          "output_type": "stream",
          "text": [
            "['id', 'value']\n",
            "['id_0', 190.65222732653038]\n",
            "['id_1', 287.39468007024647]\n",
            "['id_2', 185.20531876728398]\n",
            "['id_3', 230.98370187260798]\n",
            "['id_4', 351.51561603837735]\n",
            "['id_5', 194.7209552199874]\n",
            "['id_6', 486.91839575848206]\n",
            "['id_7', -212.76174685268566]\n",
            "['id_8', 573.7708229658801]\n",
            "['id_9', 873.3549706064462]\n",
            "['id_10', 59.29249797993459]\n",
            "['id_11', 531.796694324271]\n",
            "['id_12', 1469.8090878332305]\n",
            "['id_13', -0.41628661832247654]\n",
            "['id_14', -278.19438594203314]\n",
            "['id_15', 350.7985430792792]\n",
            "['id_16', 810.293739960465]\n",
            "['id_17', 1133.476638292685]\n",
            "['id_18', 805.1138280188933]\n",
            "['id_19', 384.8759354313405]\n",
            "['id_20', 434.1256235818396]\n",
            "['id_21', -597.5473484830891]\n",
            "['id_22', 672.1288228090051]\n",
            "['id_23', 721.3514256765254]\n",
            "['id_24', 163.6161090117289]\n",
            "['id_25', 83.7382727922862]\n",
            "['id_26', 113.82259360238635]\n",
            "['id_27', -30.445910915428186]\n",
            "['id_28', 695.2344832964461]\n",
            "['id_29', 1990.732816769095]\n",
            "['id_30', 645.9611844980052]\n",
            "['id_31', 447.5828121273297]\n",
            "['id_32', 460.3465521448774]\n",
            "['id_33', 232.93505701270482]\n",
            "['id_34', 1323.3675747185373]\n",
            "['id_35', 1279.6618206663848]\n",
            "['id_36', 352.42726596646173]\n",
            "['id_37', 193.86625528097488]\n",
            "['id_38', 1076.79581026055]\n",
            "['id_39', 169.91539334619677]\n",
            "['id_40', 710.1576859447081]\n",
            "['id_41', -467.63040428246205]\n",
            "['id_42', 1281.498366954519]\n",
            "['id_43', 175.17646373020338]\n",
            "['id_44', -1033.6911950457145]\n",
            "['id_45', 1400.8629709429244]\n",
            "['id_46', 181.24506628750967]\n",
            "['id_47', 414.4588920965857]\n",
            "['id_48', 562.5611330607063]\n",
            "['id_49', 430.315965294882]\n",
            "['id_50', 566.1067366589659]\n",
            "['id_51', 659.9519985890141]\n",
            "['id_52', 546.3524004936979]\n",
            "['id_53', 5.746734423956631]\n",
            "['id_54', -191.64203479202718]\n",
            "['id_55', 1242.1512002251388]\n",
            "['id_56', 630.2229297139999]\n",
            "['id_57', -142.8496329177035]\n",
            "['id_58', 485.93431852927336]\n",
            "['id_59', 453.1490497536592]\n",
            "['id_60', -985.770611530879]\n",
            "['id_61', 1669.3012674199172]\n",
            "['id_62', -237.05004015169064]\n",
            "['id_63', 1112.6210149661704]\n",
            "['id_64', 945.8899752614667]\n",
            "['id_65', -182.54071242501388]\n",
            "['id_66', 3.410817686381228]\n",
            "['id_67', 872.3074572790435]\n",
            "['id_68', 198.53536541813986]\n",
            "['id_69', 1075.557057417588]\n",
            "['id_70', 572.0294360497768]\n",
            "['id_71', 357.5516305308282]\n",
            "['id_72', 811.7539907206299]\n",
            "['id_73', 347.20634269354645]\n",
            "['id_74', 741.806902790641]\n",
            "['id_75', 79.95704761643205]\n",
            "['id_76', 1318.5441299615763]\n",
            "['id_77', 187.26187639163533]\n",
            "['id_78', 885.0021920473632]\n",
            "['id_79', 550.1770960613787]\n",
            "['id_80', -402.5073340123135]\n",
            "['id_81', -401.1727986809534]\n",
            "['id_82', 1437.832707080013]\n",
            "['id_83', 2043.2321169018478]\n",
            "['id_84', 255.5657725942069]\n",
            "['id_85', 408.62876087965185]\n",
            "['id_86', 312.06205282568123]\n",
            "['id_87', 328.37206675579574]\n",
            "['id_88', 751.6185666066973]\n",
            "['id_89', 1174.3131508424908]\n",
            "['id_90', 445.1284107996922]\n",
            "['id_91', 753.3011263728209]\n",
            "['id_92', 503.78933232105084]\n",
            "['id_93', 1080.4990410724188]\n",
            "['id_94', 565.2851739303758]\n",
            "['id_95', 496.1682496100761]\n",
            "['id_96', -277.4262959987711]\n",
            "['id_97', 481.48826831851414]\n",
            "['id_98', -166.3627107571209]\n",
            "['id_99', -240.68584953254683]\n",
            "['id_100', 122.5246424409204]\n",
            "['id_101', 179.46580423938187]\n",
            "['id_102', 519.5055198632317]\n",
            "['id_103', -248.1123072490702]\n",
            "['id_104', 182.21567941923846]\n",
            "['id_105', 1767.7004619312324]\n",
            "['id_106', 1038.8304802299597]\n",
            "['id_107', 151.71218427266697]\n",
            "['id_108', 437.2488417102652]\n",
            "['id_109', 1767.4480881177108]\n",
            "['id_110', 938.4591492725202]\n",
            "['id_111', -319.39240846452645]\n",
            "['id_112', 1390.5556278228892]\n",
            "['id_113', 94.95396357117289]\n",
            "['id_114', 253.01736088326925]\n",
            "['id_115', 322.57414916990865]\n",
            "['id_116', 469.6786450801955]\n",
            "['id_117', 291.16351112049836]\n",
            "['id_118', 1436.357012027031]\n",
            "['id_119', 165.29722071513106]\n",
            "['id_120', -894.3998123722638]\n",
            "['id_121', 669.232400696033]\n",
            "['id_122', 952.3226631165446]\n",
            "['id_123', -636.9958851278923]\n",
            "['id_124', 498.86453351318187]\n",
            "['id_125', 914.362259623932]\n",
            "['id_126', 434.7983630319454]\n",
            "['id_127', 830.1800535973075]\n",
            "['id_128', 68.14686757403416]\n",
            "['id_129', 2029.0108143639611]\n",
            "['id_130', 42.04599042723019]\n",
            "['id_131', 163.02319050066453]\n",
            "['id_132', 1629.5171459248886]\n",
            "['id_133', 413.9040456883106]\n",
            "['id_134', 741.2505748350313]\n",
            "['id_135', -351.2698881006694]\n",
            "['id_136', 456.95482123404753]\n",
            "['id_137', 967.236875427652]\n",
            "['id_138', 1367.6360792773526]\n",
            "['id_139', 253.04350521426315]\n",
            "['id_140', 1240.3990458080555]\n",
            "['id_141', 312.2192510812504]\n",
            "['id_142', 1140.6764239986724]\n",
            "['id_143', 1650.1585192822138]\n",
            "['id_144', 572.3982421594143]\n",
            "['id_145', -1755.3831955329629]\n",
            "['id_146', 314.31341402472196]\n",
            "['id_147', 1155.7646489716185]\n",
            "['id_148', 2233.203316707777]\n",
            "['id_149', 1938.4311074291988]\n",
            "['id_150', 523.2459395039065]\n",
            "['id_151', 223.50842177400708]\n",
            "['id_152', -405.2990516950256]\n",
            "['id_153', 156.21398573248567]\n",
            "['id_154', 1411.8974891148675]\n",
            "['id_155', 1007.9368793531434]\n",
            "['id_156', 118.94960242469918]\n",
            "['id_157', 279.8956620384598]\n",
            "['id_158', -171.5968576968716]\n",
            "['id_159', 367.10641572345145]\n",
            "['id_160', 548.0221230751517]\n",
            "['id_161', 192.79764421369694]\n",
            "['id_162', 2101.8219777534573]\n",
            "['id_163', 363.3200459993396]\n",
            "['id_164', 296.39557933211455]\n",
            "['id_165', 1399.2447708658951]\n",
            "['id_166', 75.99483392260694]\n",
            "['id_167', 480.00727728265497]\n",
            "['id_168', 1227.4998633940293]\n",
            "['id_169', 1325.3446970400164]\n",
            "['id_170', 376.0480345987004]\n",
            "['id_171', 945.6312323095078]\n",
            "['id_172', 848.8972562342993]\n",
            "['id_173', 1276.1592344166925]\n",
            "['id_174', 1243.0778368890763]\n",
            "['id_175', 1192.7609481841407]\n",
            "['id_176', 1338.5472905660588]\n",
            "['id_177', 740.1094852974559]\n",
            "['id_178', 653.7561731494055]\n",
            "['id_179', 1135.5720102610678]\n",
            "['id_180', 615.1458205395846]\n",
            "['id_181', 86.37484869592137]\n",
            "['id_182', 65.70428501591456]\n",
            "['id_183', 630.9169403549886]\n",
            "['id_184', 176.00149846129003]\n",
            "['id_185', 1113.048529536277]\n",
            "['id_186', -13.204778175801367]\n",
            "['id_187', 579.6656697252985]\n",
            "['id_188', -1111.128499119384]\n",
            "['id_189', 1683.1840124455284]\n",
            "['id_190', 843.5004328005255]\n",
            "['id_191', 1062.2161964979316]\n",
            "['id_192', 1799.178653744449]\n",
            "['id_193', 510.39277501958463]\n",
            "['id_194', 40.35760344835166]\n",
            "['id_195', 1636.1353378366086]\n",
            "['id_196', 396.79849854864665]\n",
            "['id_197', 1213.944727942165]\n",
            "['id_198', 765.5546727994924]\n",
            "['id_199', -188.46667975921676]\n",
            "['id_200', 580.9584157097274]\n",
            "['id_201', 545.79374807306]\n",
            "['id_202', 675.451010854398]\n",
            "['id_203', 1000.8472804862296]\n",
            "['id_204', 108.56523094983014]\n",
            "['id_205', 509.2155135323041]\n",
            "['id_206', 159.89608019857783]\n",
            "['id_207', 347.4236249358254]\n",
            "['id_208', 1164.4227190267247]\n",
            "['id_209', 227.99437563253178]\n",
            "['id_210', -251.08517866064696]\n",
            "['id_211', 1534.132181966175]\n",
            "['id_212', 588.75627966797]\n",
            "['id_213', 572.5586868864182]\n",
            "['id_214', 655.7929206296045]\n",
            "['id_215', -415.4755744158413]\n",
            "['id_216', 901.28440517189]\n",
            "['id_217', 297.1943709130754]\n",
            "['id_218', 390.82704402422337]\n",
            "['id_219', 907.0201499150863]\n",
            "['id_220', 465.9891185335012]\n",
            "['id_221', 923.3244137272729]\n",
            "['id_222', 265.8572773293161]\n",
            "['id_223', 303.4467471182201]\n",
            "['id_224', -241.97780906592357]\n",
            "['id_225', -338.00798761491865]\n",
            "['id_226', 472.8923652169096]\n",
            "['id_227', -827.7430292214527]\n",
            "['id_228', 296.2014949296703]\n",
            "['id_229', -409.51045871726456]\n",
            "['id_230', 570.2505102172145]\n",
            "['id_231', 1352.593044223475]\n",
            "['id_232', 845.0925067913948]\n",
            "['id_233', 1086.3171316017808]\n",
            "['id_234', 895.0173333584478]\n",
            "['id_235', 2919.134864805891]\n",
            "['id_236', 1568.098455001267]\n",
            "['id_237', 1310.3121202845957]\n",
            "['id_238', 88.94784701995752]\n",
            "['id_239', 334.3390607220816]\n"
          ],
          "name": "stdout"
        }
      ]
    },
    {
      "cell_type": "markdown",
      "metadata": {
        "colab_type": "text",
        "id": "Y54yWq9cIPR4"
      },
      "source": [
        "相關 reference 可以參考:\n",
        "\n",
        "Adagrad :\n",
        "https://youtu.be/yKKNr-QKz2Q?list=PLJV_el3uVTsPy9oCRY30oBPNLCo89yu49&t=705 \n",
        "\n",
        "RMSprop : \n",
        "https://www.youtube.com/watch?v=5Yt-obwvMHI \n",
        "\n",
        "Adam\n",
        "https://www.youtube.com/watch?v=JXQT_vxqwIs \n",
        "\n",
        "\n",
        "以上 print 的部分主要是為了看一下資料和結果的呈現，拿掉也無妨。另外，在自己的 linux 系統，可以將檔案寫死的的部分換成 sys.argv 的使用 (可在 terminal 自行輸入檔案和檔案位置)。\n",
        "\n",
        "最後，可以藉由調整 learning rate、iter_time (iteration 次數)、取用 features 的多寡(取幾個小時，取哪些特徵欄位)，甚至是不同的 model 來超越 baseline。\n",
        "\n",
        "Report 的問題模板請參照 : https://docs.google.com/document/d/1s84RXs2AEgZr54WCK9IgZrfTF-6B1td-AlKR9oqYa4g/edit"
      ]
    }
  ]
}